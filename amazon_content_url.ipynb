{
 "cells": [
  {
   "cell_type": "code",
   "execution_count": 3,
   "metadata": {},
   "outputs": [
    {
     "name": "stdout",
     "output_type": "stream",
     "text": [
      "200\n"
     ]
    },
    {
     "data": {
      "text/plain": [
       "['هاتف سامسونج جالكسي ام 31 ثنائي شرائح الاتصال، ذاكرة رام 6 جيجا - الجيل الرابع ال تي اي 128GB Galaxy M31',\n",
       " 'هاتف سامسونج جالكسي اس 10 لايت ثنائي شرائح الاتصال - ذاكرة رام 8 جيجا - الجيل الرابع ال تي اي 128GB S10 Lite',\n",
       " 'لينوفو كيه 9 نوت، ثنائي شرائح الاتصال - الجيل الرابع ال تي اي 64GB L 38012',\n",
       " 'سامسونج جالكسي ام 30 اس بشريحتي اتصال - 4 جيجا رام، الجيل الرابع ال تي اي 64GB M30s',\n",
       " 'هاتف سامسونج جالكسي ام 11 ثنائي شرائح الاتصال - 3 جيجا رام، تقنية الجيل الرابع ال تي اي 32GB SM-M115FZKDKSA',\n",
       " 'هاتف شاومي ريدمي نوت 8 ثنائي شرائح الاتصال - الجيل الرابع ال تي اي - رام 3 جيجا 32GB Redmi Note 8',\n",
       " 'هاتف لينوفو ايه 7، ثنائي شرائح الاتصال 64GB ROM, 4GB RAM L19111',\n",
       " 'لينوفو كيه 10 نوت ثنائي شريحة الاتصال - شبكة الجيل الرابع ال تي اي 128GB L38111',\n",
       " 'شاومي ريدمي 8 بشريحتي اتصال - الجيل الرابع ال تي اي 32GB Redmi 8',\n",
       " 'الهاتف الذكي وان بلس 7T برو باللون الأزرق الفاتح | شاشة اموليد مقاس 6.67 بوصة/16.9 سم، شاشة 90 هرتز | ذاكرة رام سعة 8 جيجابايت + تخزين سعة 256 جيجابايت | كاميرا ثلاثية + كاميرا تنبثق | شحن اللف 30',\n",
       " 'هاتف نوكيا 7.2 ثنائي شرائح الاتصال - 128 جيجا، الجيل الرابع ال تي اي 128GB 6830AA002299',\n",
       " 'هاتف موتورولا ون اكشن ثنائي شرائح الاتصال - 4 جيجا رام، الجيل الرابع ال تي اي 128 GB XT2013',\n",
       " 'هاتف اسوس زين فون 3 اس ماكس ثنائي شرائح الاتصال - ذاكرة داخلية 32 جيجا، ذاكرة رام 3 جيجا، الجيل الرابع ال تي اي - لون اسود',\n",
       " 'اوبو 11 بشريحنى اتصال - 64 جيجا, 4 جى لايت, اخضر رخامى']"
      ]
     },
     "execution_count": 3,
     "metadata": {},
     "output_type": "execute_result"
    }
   ],
   "source": [
    "import requests\n",
    "import pandas as pd\n",
    "import numpy as np \n",
    "from bs4 import BeautifulSoup\n",
    "\n",
    "response = requests.get('https://www.amazon.sa/b?node=21549383031&pf_rd_r=PAYJBP28RQFW02HTRCBC&pf_rd_p=a0b8b7f9-0149-4d43-9f7e-0c2157c79b5a')\n",
    "print(response.status_code)\n",
    "soup = BeautifulSoup(response.text, 'html.parser')\n",
    "name =[]\n",
    "name=[i.text for i in soup.find_all(class_='a-size-base s-inline s-access-title a-text-normal')]\n",
    "name"
   ]
  },
  {
   "cell_type": "code",
   "execution_count": 4,
   "metadata": {},
   "outputs": [
    {
     "data": {
      "text/plain": [
       "['939.\\u200e',\n",
       " '1,699.\\u200e',\n",
       " '399.\\u200e',\n",
       " '749.\\u200e',\n",
       " '521.\\u200e',\n",
       " '529.\\u200e',\n",
       " '399.\\u200e',\n",
       " '699.\\u200e',\n",
       " '439.\\u200e',\n",
       " '2,630.\\u200e',\n",
       " '969.\\u200e',\n",
       " '749.\\u200e',\n",
       " '461.\\u200e',\n",
       " '999.\\u200e']"
      ]
     },
     "execution_count": 4,
     "metadata": {},
     "output_type": "execute_result"
    }
   ],
   "source": [
    "price =[]\n",
    "price=[i.text for i in soup.find_all(class_='a-price-whole')]\n",
    "price"
   ]
  },
  {
   "cell_type": "code",
   "execution_count": 7,
   "metadata": {},
   "outputs": [],
   "source": [
    "df = pd.DataFrame({'name': name, 'price': price})\n"
   ]
  },
  {
   "cell_type": "code",
   "execution_count": 8,
   "metadata": {},
   "outputs": [
    {
     "data": {
      "text/html": [
       "<div>\n",
       "<style scoped>\n",
       "    .dataframe tbody tr th:only-of-type {\n",
       "        vertical-align: middle;\n",
       "    }\n",
       "\n",
       "    .dataframe tbody tr th {\n",
       "        vertical-align: top;\n",
       "    }\n",
       "\n",
       "    .dataframe thead th {\n",
       "        text-align: right;\n",
       "    }\n",
       "</style>\n",
       "<table border=\"1\" class=\"dataframe\">\n",
       "  <thead>\n",
       "    <tr style=\"text-align: right;\">\n",
       "      <th></th>\n",
       "      <th>name</th>\n",
       "      <th>price</th>\n",
       "    </tr>\n",
       "  </thead>\n",
       "  <tbody>\n",
       "    <tr>\n",
       "      <td>0</td>\n",
       "      <td>هاتف سامسونج جالكسي ام 31 ثنائي شرائح الاتصال،...</td>\n",
       "      <td>939.‎</td>\n",
       "    </tr>\n",
       "    <tr>\n",
       "      <td>1</td>\n",
       "      <td>هاتف سامسونج جالكسي اس 10 لايت ثنائي شرائح الا...</td>\n",
       "      <td>1,699.‎</td>\n",
       "    </tr>\n",
       "    <tr>\n",
       "      <td>2</td>\n",
       "      <td>لينوفو كيه 9 نوت، ثنائي شرائح الاتصال - الجيل ...</td>\n",
       "      <td>399.‎</td>\n",
       "    </tr>\n",
       "    <tr>\n",
       "      <td>3</td>\n",
       "      <td>سامسونج جالكسي ام 30 اس بشريحتي اتصال - 4 جيجا...</td>\n",
       "      <td>749.‎</td>\n",
       "    </tr>\n",
       "    <tr>\n",
       "      <td>4</td>\n",
       "      <td>هاتف سامسونج جالكسي ام 11 ثنائي شرائح الاتصال ...</td>\n",
       "      <td>521.‎</td>\n",
       "    </tr>\n",
       "    <tr>\n",
       "      <td>5</td>\n",
       "      <td>هاتف شاومي ريدمي نوت 8 ثنائي شرائح الاتصال - ا...</td>\n",
       "      <td>529.‎</td>\n",
       "    </tr>\n",
       "    <tr>\n",
       "      <td>6</td>\n",
       "      <td>هاتف لينوفو ايه 7، ثنائي شرائح الاتصال 64GB RO...</td>\n",
       "      <td>399.‎</td>\n",
       "    </tr>\n",
       "    <tr>\n",
       "      <td>7</td>\n",
       "      <td>لينوفو كيه 10 نوت ثنائي شريحة الاتصال - شبكة ا...</td>\n",
       "      <td>699.‎</td>\n",
       "    </tr>\n",
       "    <tr>\n",
       "      <td>8</td>\n",
       "      <td>شاومي ريدمي 8 بشريحتي اتصال - الجيل الرابع ال ...</td>\n",
       "      <td>439.‎</td>\n",
       "    </tr>\n",
       "    <tr>\n",
       "      <td>9</td>\n",
       "      <td>الهاتف الذكي وان بلس 7T برو باللون الأزرق الفا...</td>\n",
       "      <td>2,630.‎</td>\n",
       "    </tr>\n",
       "    <tr>\n",
       "      <td>10</td>\n",
       "      <td>هاتف نوكيا 7.2 ثنائي شرائح الاتصال - 128 جيجا،...</td>\n",
       "      <td>969.‎</td>\n",
       "    </tr>\n",
       "    <tr>\n",
       "      <td>11</td>\n",
       "      <td>هاتف موتورولا ون اكشن ثنائي شرائح الاتصال - 4 ...</td>\n",
       "      <td>749.‎</td>\n",
       "    </tr>\n",
       "    <tr>\n",
       "      <td>12</td>\n",
       "      <td>هاتف اسوس زين فون 3 اس ماكس ثنائي شرائح الاتصا...</td>\n",
       "      <td>461.‎</td>\n",
       "    </tr>\n",
       "    <tr>\n",
       "      <td>13</td>\n",
       "      <td>اوبو 11 بشريحنى اتصال - 64 جيجا, 4 جى لايت, اخ...</td>\n",
       "      <td>999.‎</td>\n",
       "    </tr>\n",
       "  </tbody>\n",
       "</table>\n",
       "</div>"
      ],
      "text/plain": [
       "                                                 name    price\n",
       "0   هاتف سامسونج جالكسي ام 31 ثنائي شرائح الاتصال،...    939.‎\n",
       "1   هاتف سامسونج جالكسي اس 10 لايت ثنائي شرائح الا...  1,699.‎\n",
       "2   لينوفو كيه 9 نوت، ثنائي شرائح الاتصال - الجيل ...    399.‎\n",
       "3   سامسونج جالكسي ام 30 اس بشريحتي اتصال - 4 جيجا...    749.‎\n",
       "4   هاتف سامسونج جالكسي ام 11 ثنائي شرائح الاتصال ...    521.‎\n",
       "5   هاتف شاومي ريدمي نوت 8 ثنائي شرائح الاتصال - ا...    529.‎\n",
       "6   هاتف لينوفو ايه 7، ثنائي شرائح الاتصال 64GB RO...    399.‎\n",
       "7   لينوفو كيه 10 نوت ثنائي شريحة الاتصال - شبكة ا...    699.‎\n",
       "8   شاومي ريدمي 8 بشريحتي اتصال - الجيل الرابع ال ...    439.‎\n",
       "9   الهاتف الذكي وان بلس 7T برو باللون الأزرق الفا...  2,630.‎\n",
       "10  هاتف نوكيا 7.2 ثنائي شرائح الاتصال - 128 جيجا،...    969.‎\n",
       "11  هاتف موتورولا ون اكشن ثنائي شرائح الاتصال - 4 ...    749.‎\n",
       "12  هاتف اسوس زين فون 3 اس ماكس ثنائي شرائح الاتصا...    461.‎\n",
       "13  اوبو 11 بشريحنى اتصال - 64 جيجا, 4 جى لايت, اخ...    999.‎"
      ]
     },
     "execution_count": 8,
     "metadata": {},
     "output_type": "execute_result"
    }
   ],
   "source": [
    "df"
   ]
  },
  {
   "cell_type": "code",
   "execution_count": null,
   "metadata": {},
   "outputs": [],
   "source": []
  }
 ],
 "metadata": {
  "kernelspec": {
   "display_name": "Python 3",
   "language": "python",
   "name": "python3"
  },
  "language_info": {
   "codemirror_mode": {
    "name": "ipython",
    "version": 3
   },
   "file_extension": ".py",
   "mimetype": "text/x-python",
   "name": "python",
   "nbconvert_exporter": "python",
   "pygments_lexer": "ipython3",
   "version": "3.7.4"
  }
 },
 "nbformat": 4,
 "nbformat_minor": 2
}
